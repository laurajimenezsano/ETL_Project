{
 "cells": [
  {
   "cell_type": "code",
   "execution_count": 1,
   "metadata": {},
   "outputs": [],
   "source": [
    "import pandas as pd"
   ]
  },
  {
   "cell_type": "code",
   "execution_count": 4,
   "metadata": {},
   "outputs": [],
   "source": [
    "url = 'https://data.beta.nyc/dataset/0ff93d2d-90ba-457c-9f7e-39e47bf2ac5f/resource/7caac650-d082-4aea-9f9b-3681d568e8a5/download/nyc_zip_borough_neighborhoods_pop.csv'\n",
    "df = pd.read_csv(url, error_bad_lines = False)"
   ]
  },
  {
   "cell_type": "code",
   "execution_count": 5,
   "metadata": {},
   "outputs": [
    {
     "data": {
      "text/html": [
       "<div>\n",
       "<style scoped>\n",
       "    .dataframe tbody tr th:only-of-type {\n",
       "        vertical-align: middle;\n",
       "    }\n",
       "\n",
       "    .dataframe tbody tr th {\n",
       "        vertical-align: top;\n",
       "    }\n",
       "\n",
       "    .dataframe thead th {\n",
       "        text-align: right;\n",
       "    }\n",
       "</style>\n",
       "<table border=\"1\" class=\"dataframe\">\n",
       "  <thead>\n",
       "    <tr style=\"text-align: right;\">\n",
       "      <th></th>\n",
       "      <th>zip</th>\n",
       "      <th>borough</th>\n",
       "      <th>post_office</th>\n",
       "      <th>neighborhood</th>\n",
       "      <th>population</th>\n",
       "      <th>density</th>\n",
       "    </tr>\n",
       "  </thead>\n",
       "  <tbody>\n",
       "    <tr>\n",
       "      <th>0</th>\n",
       "      <td>10001</td>\n",
       "      <td>Manhattan</td>\n",
       "      <td>New York, NY</td>\n",
       "      <td>Chelsea and Clinton</td>\n",
       "      <td>21102</td>\n",
       "      <td>33959</td>\n",
       "    </tr>\n",
       "    <tr>\n",
       "      <th>1</th>\n",
       "      <td>10002</td>\n",
       "      <td>Manhattan</td>\n",
       "      <td>New York, NY</td>\n",
       "      <td>Lower East Side</td>\n",
       "      <td>81410</td>\n",
       "      <td>92573</td>\n",
       "    </tr>\n",
       "    <tr>\n",
       "      <th>2</th>\n",
       "      <td>10003</td>\n",
       "      <td>Manhattan</td>\n",
       "      <td>New York, NY</td>\n",
       "      <td>Lower East Side</td>\n",
       "      <td>56024</td>\n",
       "      <td>97188</td>\n",
       "    </tr>\n",
       "    <tr>\n",
       "      <th>3</th>\n",
       "      <td>10004</td>\n",
       "      <td>Manhattan</td>\n",
       "      <td>New York, NY</td>\n",
       "      <td>Lower Manhattan</td>\n",
       "      <td>3089</td>\n",
       "      <td>5519</td>\n",
       "    </tr>\n",
       "    <tr>\n",
       "      <th>4</th>\n",
       "      <td>10005</td>\n",
       "      <td>Manhattan</td>\n",
       "      <td>New York, NY</td>\n",
       "      <td>Lower Manhattan</td>\n",
       "      <td>7135</td>\n",
       "      <td>97048</td>\n",
       "    </tr>\n",
       "  </tbody>\n",
       "</table>\n",
       "</div>"
      ],
      "text/plain": [
       "     zip    borough   post_office         neighborhood  population  density\n",
       "0  10001  Manhattan  New York, NY  Chelsea and Clinton       21102    33959\n",
       "1  10002  Manhattan  New York, NY      Lower East Side       81410    92573\n",
       "2  10003  Manhattan  New York, NY      Lower East Side       56024    97188\n",
       "3  10004  Manhattan  New York, NY      Lower Manhattan        3089     5519\n",
       "4  10005  Manhattan  New York, NY      Lower Manhattan        7135    97048"
      ]
     },
     "execution_count": 5,
     "metadata": {},
     "output_type": "execute_result"
    }
   ],
   "source": [
    "df.head()"
   ]
  },
  {
   "cell_type": "code",
   "execution_count": null,
   "metadata": {},
   "outputs": [],
   "source": []
  }
 ],
 "metadata": {
  "kernelspec": {
   "display_name": "Python 3",
   "language": "python",
   "name": "python3"
  },
  "language_info": {
   "codemirror_mode": {
    "name": "ipython",
    "version": 3
   },
   "file_extension": ".py",
   "mimetype": "text/x-python",
   "name": "python",
   "nbconvert_exporter": "python",
   "pygments_lexer": "ipython3",
   "version": "3.8.5"
  }
 },
 "nbformat": 4,
 "nbformat_minor": 4
}
