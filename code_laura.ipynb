{
 "cells": [
  {
   "cell_type": "markdown",
   "metadata": {},
   "source": [
    "## ETL Project by Moe, Fernando and Laura\n",
    "Goals: 1.) To identify which neighborhoods in NYC have high population density, both from residents and tourists, yet do not have enough food establishments nearby. 2.) To provide new restaurants with guidance on strategic placements in NYC."
   ]
  },
  {
   "cell_type": "markdown",
   "metadata": {},
   "source": [
    "### Import All Dependencies"
   ]
  },
  {
   "cell_type": "code",
   "execution_count": 15,
   "metadata": {},
   "outputs": [],
   "source": [
    "# import gmaps\n",
    "# import numpy as np\n",
    "import pandas as pd\n",
    "# import requests\n",
    "# import time\n",
    "# import json\n",
    "# from datetime import datetime\n",
    "# from scipy.stats import linregress\n",
    "# from matplotlib import pyplot as plt\n",
    "# from config_Laura import (walk_key)\n",
    "import os\n",
    "from bs4 import BeautifulSoup as bs"
   ]
  },
  {
   "cell_type": "markdown",
   "metadata": {},
   "source": [
    "### This section will be used to clean the datasets\n",
    "Datasets used: 3 CSV Files (one containing Airbnb data from Kaggle, one on census data for NYC from https://data.cccnewyork.org/ and one for restaurant data for NYC from Kaggle). In addition, we will webscrape an article on the top 25 restaurants to stay in NYC."
   ]
  },
  {
   "cell_type": "markdown",
   "metadata": {},
   "source": [
    "#### A. Cleaning census data for NYC"
   ]
  },
  {
   "cell_type": "code",
   "execution_count": 2,
   "metadata": {},
   "outputs": [],
   "source": [
    "# import csv for census data and remove the first 5 rows that contain other information\n",
    "census_data = pd.read_csv('Resources/NYC_census_data.csv', skiprows=5)"
   ]
  },
  {
   "cell_type": "code",
   "execution_count": 3,
   "metadata": {},
   "outputs": [
    {
     "data": {
      "text/html": [
       "<div>\n",
       "<style scoped>\n",
       "    .dataframe tbody tr th:only-of-type {\n",
       "        vertical-align: middle;\n",
       "    }\n",
       "\n",
       "    .dataframe tbody tr th {\n",
       "        vertical-align: top;\n",
       "    }\n",
       "\n",
       "    .dataframe thead th {\n",
       "        text-align: right;\n",
       "    }\n",
       "</style>\n",
       "<table border=\"1\" class=\"dataframe\">\n",
       "  <thead>\n",
       "    <tr style=\"text-align: right;\">\n",
       "      <th></th>\n",
       "      <th>Location</th>\n",
       "      <th>TimeFrame</th>\n",
       "      <th>DataFormat</th>\n",
       "      <th>Data</th>\n",
       "      <th>Fips</th>\n",
       "    </tr>\n",
       "  </thead>\n",
       "  <tbody>\n",
       "    <tr>\n",
       "      <th>0</th>\n",
       "      <td>Battery Park/Tribeca</td>\n",
       "      <td>2005</td>\n",
       "      <td>Number</td>\n",
       "      <td>51150.45963</td>\n",
       "      <td>101</td>\n",
       "    </tr>\n",
       "    <tr>\n",
       "      <th>1</th>\n",
       "      <td>Battery Park/Tribeca</td>\n",
       "      <td>2006</td>\n",
       "      <td>Number</td>\n",
       "      <td>59445.00870</td>\n",
       "      <td>101</td>\n",
       "    </tr>\n",
       "    <tr>\n",
       "      <th>2</th>\n",
       "      <td>Battery Park/Tribeca</td>\n",
       "      <td>2007</td>\n",
       "      <td>Number</td>\n",
       "      <td>56375.39151</td>\n",
       "      <td>101</td>\n",
       "    </tr>\n",
       "    <tr>\n",
       "      <th>3</th>\n",
       "      <td>Battery Park/Tribeca</td>\n",
       "      <td>2008</td>\n",
       "      <td>Number</td>\n",
       "      <td>61639.90009</td>\n",
       "      <td>101</td>\n",
       "    </tr>\n",
       "    <tr>\n",
       "      <th>4</th>\n",
       "      <td>Battery Park/Tribeca</td>\n",
       "      <td>2009</td>\n",
       "      <td>Number</td>\n",
       "      <td>56591.85182</td>\n",
       "      <td>101</td>\n",
       "    </tr>\n",
       "  </tbody>\n",
       "</table>\n",
       "</div>"
      ],
      "text/plain": [
       "               Location  TimeFrame DataFormat         Data Fips\n",
       "0  Battery Park/Tribeca       2005     Number  51150.45963  101\n",
       "1  Battery Park/Tribeca       2006     Number  59445.00870  101\n",
       "2  Battery Park/Tribeca       2007     Number  56375.39151  101\n",
       "3  Battery Park/Tribeca       2008     Number  61639.90009  101\n",
       "4  Battery Park/Tribeca       2009     Number  56591.85182  101"
      ]
     },
     "execution_count": 3,
     "metadata": {},
     "output_type": "execute_result"
    }
   ],
   "source": [
    "census_data.head(5)"
   ]
  },
  {
   "cell_type": "code",
   "execution_count": 4,
   "metadata": {},
   "outputs": [
    {
     "data": {
      "text/html": [
       "<div>\n",
       "<style scoped>\n",
       "    .dataframe tbody tr th:only-of-type {\n",
       "        vertical-align: middle;\n",
       "    }\n",
       "\n",
       "    .dataframe tbody tr th {\n",
       "        vertical-align: top;\n",
       "    }\n",
       "\n",
       "    .dataframe thead th {\n",
       "        text-align: right;\n",
       "    }\n",
       "</style>\n",
       "<table border=\"1\" class=\"dataframe\">\n",
       "  <thead>\n",
       "    <tr style=\"text-align: right;\">\n",
       "      <th></th>\n",
       "      <th>Location</th>\n",
       "      <th>TimeFrame</th>\n",
       "      <th>Data</th>\n",
       "    </tr>\n",
       "  </thead>\n",
       "  <tbody>\n",
       "    <tr>\n",
       "      <th>0</th>\n",
       "      <td>Battery Park/Tribeca</td>\n",
       "      <td>2005</td>\n",
       "      <td>51150.45963</td>\n",
       "    </tr>\n",
       "    <tr>\n",
       "      <th>1</th>\n",
       "      <td>Battery Park/Tribeca</td>\n",
       "      <td>2006</td>\n",
       "      <td>59445.00870</td>\n",
       "    </tr>\n",
       "    <tr>\n",
       "      <th>2</th>\n",
       "      <td>Battery Park/Tribeca</td>\n",
       "      <td>2007</td>\n",
       "      <td>56375.39151</td>\n",
       "    </tr>\n",
       "    <tr>\n",
       "      <th>3</th>\n",
       "      <td>Battery Park/Tribeca</td>\n",
       "      <td>2008</td>\n",
       "      <td>61639.90009</td>\n",
       "    </tr>\n",
       "    <tr>\n",
       "      <th>4</th>\n",
       "      <td>Battery Park/Tribeca</td>\n",
       "      <td>2009</td>\n",
       "      <td>56591.85182</td>\n",
       "    </tr>\n",
       "  </tbody>\n",
       "</table>\n",
       "</div>"
      ],
      "text/plain": [
       "               Location  TimeFrame         Data\n",
       "0  Battery Park/Tribeca       2005  51150.45963\n",
       "1  Battery Park/Tribeca       2006  59445.00870\n",
       "2  Battery Park/Tribeca       2007  56375.39151\n",
       "3  Battery Park/Tribeca       2008  61639.90009\n",
       "4  Battery Park/Tribeca       2009  56591.85182"
      ]
     },
     "execution_count": 4,
     "metadata": {},
     "output_type": "execute_result"
    }
   ],
   "source": [
    "#remove dataformat and fips from the dataset\n",
    "census_data = census_data.drop(['DataFormat', 'Fips'], axis=1)\n",
    "census_data.head()"
   ]
  },
  {
   "cell_type": "code",
   "execution_count": 5,
   "metadata": {},
   "outputs": [],
   "source": [
    "#remove data that started with \"Zip Code\" as it does not represent a neighborhood\n",
    "census_data = census_data[~census_data.Location.str.startswith('Zip')]"
   ]
  },
  {
   "cell_type": "code",
   "execution_count": 11,
   "metadata": {},
   "outputs": [
    {
     "data": {
      "text/html": [
       "<div>\n",
       "<style scoped>\n",
       "    .dataframe tbody tr th:only-of-type {\n",
       "        vertical-align: middle;\n",
       "    }\n",
       "\n",
       "    .dataframe tbody tr th {\n",
       "        vertical-align: top;\n",
       "    }\n",
       "\n",
       "    .dataframe thead th {\n",
       "        text-align: right;\n",
       "    }\n",
       "</style>\n",
       "<table border=\"1\" class=\"dataframe\">\n",
       "  <thead>\n",
       "    <tr style=\"text-align: right;\">\n",
       "      <th></th>\n",
       "      <th>Neighborhood</th>\n",
       "      <th>Census_Year</th>\n",
       "      <th>Population</th>\n",
       "    </tr>\n",
       "  </thead>\n",
       "  <tbody>\n",
       "    <tr>\n",
       "      <th>2802</th>\n",
       "      <td>Astoria</td>\n",
       "      <td>2019</td>\n",
       "      <td>166069.00000</td>\n",
       "    </tr>\n",
       "    <tr>\n",
       "      <th>2760</th>\n",
       "      <td>Battery Park/Tribeca</td>\n",
       "      <td>2019</td>\n",
       "      <td>66437.96901</td>\n",
       "    </tr>\n",
       "    <tr>\n",
       "      <th>2793</th>\n",
       "      <td>Bay Ridge</td>\n",
       "      <td>2019</td>\n",
       "      <td>121925.00000</td>\n",
       "    </tr>\n",
       "    <tr>\n",
       "      <th>2812</th>\n",
       "      <td>Bayside</td>\n",
       "      <td>2019</td>\n",
       "      <td>114562.00000</td>\n",
       "    </tr>\n",
       "    <tr>\n",
       "      <th>1277</th>\n",
       "      <td>Bayside - Little Neck</td>\n",
       "      <td>2018</td>\n",
       "      <td>87431.63278</td>\n",
       "    </tr>\n",
       "  </tbody>\n",
       "</table>\n",
       "</div>"
      ],
      "text/plain": [
       "               Neighborhood  Census_Year    Population\n",
       "2802                Astoria         2019  166069.00000\n",
       "2760   Battery Park/Tribeca         2019   66437.96901\n",
       "2793              Bay Ridge         2019  121925.00000\n",
       "2812                Bayside         2019  114562.00000\n",
       "1277  Bayside - Little Neck         2018   87431.63278"
      ]
     },
     "execution_count": 11,
     "metadata": {},
     "output_type": "execute_result"
    }
   ],
   "source": [
    "#rename column headers\n",
    "census_data = census_data.rename(columns = {'Location': 'Neighborhood', 'TimeFrame': 'Census_Year', 'Data': 'Population'}, inplace = False)\n",
    "census_data.head()"
   ]
  },
  {
   "cell_type": "code",
   "execution_count": 12,
   "metadata": {
    "scrolled": true
   },
   "outputs": [
    {
     "data": {
      "text/html": [
       "<div>\n",
       "<style scoped>\n",
       "    .dataframe tbody tr th:only-of-type {\n",
       "        vertical-align: middle;\n",
       "    }\n",
       "\n",
       "    .dataframe tbody tr th {\n",
       "        vertical-align: top;\n",
       "    }\n",
       "\n",
       "    .dataframe thead th {\n",
       "        text-align: right;\n",
       "    }\n",
       "</style>\n",
       "<table border=\"1\" class=\"dataframe\">\n",
       "  <thead>\n",
       "    <tr style=\"text-align: right;\">\n",
       "      <th></th>\n",
       "      <th>Neighborhood</th>\n",
       "      <th>Census_Year</th>\n",
       "      <th>Population</th>\n",
       "    </tr>\n",
       "  </thead>\n",
       "  <tbody>\n",
       "    <tr>\n",
       "      <th>2802</th>\n",
       "      <td>Astoria</td>\n",
       "      <td>2019</td>\n",
       "      <td>166069.00000</td>\n",
       "    </tr>\n",
       "    <tr>\n",
       "      <th>2760</th>\n",
       "      <td>Battery Park/Tribeca</td>\n",
       "      <td>2019</td>\n",
       "      <td>66437.96901</td>\n",
       "    </tr>\n",
       "    <tr>\n",
       "      <th>2793</th>\n",
       "      <td>Bay Ridge</td>\n",
       "      <td>2019</td>\n",
       "      <td>121925.00000</td>\n",
       "    </tr>\n",
       "    <tr>\n",
       "      <th>2812</th>\n",
       "      <td>Bayside</td>\n",
       "      <td>2019</td>\n",
       "      <td>114562.00000</td>\n",
       "    </tr>\n",
       "    <tr>\n",
       "      <th>1277</th>\n",
       "      <td>Bayside - Little Neck</td>\n",
       "      <td>2018</td>\n",
       "      <td>87431.63278</td>\n",
       "    </tr>\n",
       "  </tbody>\n",
       "</table>\n",
       "</div>"
      ],
      "text/plain": [
       "               Neighborhood  Census_Year    Population\n",
       "2802                Astoria         2019  166069.00000\n",
       "2760   Battery Park/Tribeca         2019   66437.96901\n",
       "2793              Bay Ridge         2019  121925.00000\n",
       "2812                Bayside         2019  114562.00000\n",
       "1277  Bayside - Little Neck         2018   87431.63278"
      ]
     },
     "execution_count": 12,
     "metadata": {},
     "output_type": "execute_result"
    }
   ],
   "source": [
    "#sort by timeframe location and timeframe, and for each unique location select the latest year of census\n",
    "census_data = census_data.sort_values(by = ['Neighborhood','Census_Year'], ascending = (True, False))\n",
    "census_data = census_data.drop_duplicates(subset=['Neighborhood'])\n",
    "census_data.head()"
   ]
  },
  {
   "cell_type": "markdown",
   "metadata": {},
   "source": [
    "#### B. Getting from website the top 25 hotels in NYC"
   ]
  },
  {
   "cell_type": "code",
   "execution_count": 16,
   "metadata": {},
   "outputs": [
    {
     "name": "stderr",
     "output_type": "stream",
     "text": [
      "/Users/LJS/opt/anaconda3/lib/python3.8/site-packages/bs4/__init__.py:417: MarkupResemblesLocatorWarning: \"https://www.businessinsider.com/best-hotels-new-york-city\" looks like a URL. Beautiful Soup is not an HTTP client. You should probably use an HTTP client like requests to get the document behind the URL, and feed that document to Beautiful Soup.\n",
      "  warnings.warn(\n"
     ]
    }
   ],
   "source": [
    "# Create a Beautiful Soup object\n",
    "html = 'https://www.businessinsider.com/best-hotels-new-york-city'\n",
    "soup = bs(html, 'lxml')"
   ]
  },
  {
   "cell_type": "code",
   "execution_count": 17,
   "metadata": {},
   "outputs": [
    {
     "ename": "AttributeError",
     "evalue": "'NoneType' object has no attribute 'text'",
     "output_type": "error",
     "traceback": [
      "\u001b[0;31m---------------------------------------------------------------------------\u001b[0m",
      "\u001b[0;31mAttributeError\u001b[0m                            Traceback (most recent call last)",
      "\u001b[0;32m<ipython-input-17-e02bc381fc1a>\u001b[0m in \u001b[0;36m<module>\u001b[0;34m\u001b[0m\n\u001b[1;32m      1\u001b[0m \u001b[0;31m# Extract title text\u001b[0m\u001b[0;34m\u001b[0m\u001b[0;34m\u001b[0m\u001b[0;34m\u001b[0m\u001b[0m\n\u001b[0;32m----> 2\u001b[0;31m \u001b[0mtitle\u001b[0m \u001b[0;34m=\u001b[0m \u001b[0msoup\u001b[0m\u001b[0;34m.\u001b[0m\u001b[0mtitle\u001b[0m\u001b[0;34m.\u001b[0m\u001b[0mtext\u001b[0m\u001b[0;34m\u001b[0m\u001b[0;34m\u001b[0m\u001b[0m\n\u001b[0m\u001b[1;32m      3\u001b[0m \u001b[0mprint\u001b[0m\u001b[0;34m(\u001b[0m\u001b[0mtitle\u001b[0m\u001b[0;34m)\u001b[0m\u001b[0;34m\u001b[0m\u001b[0;34m\u001b[0m\u001b[0m\n",
      "\u001b[0;31mAttributeError\u001b[0m: 'NoneType' object has no attribute 'text'"
     ]
    }
   ],
   "source": [
    "# Extract title text\n",
    "title = soup.role.text\n",
    "print(title)"
   ]
  },
  {
   "cell_type": "code",
   "execution_count": null,
   "metadata": {},
   "outputs": [],
   "source": []
  }
 ],
 "metadata": {
  "kernelspec": {
   "display_name": "Python 3",
   "language": "python",
   "name": "python3"
  },
  "language_info": {
   "codemirror_mode": {
    "name": "ipython",
    "version": 3
   },
   "file_extension": ".py",
   "mimetype": "text/x-python",
   "name": "python",
   "nbconvert_exporter": "python",
   "pygments_lexer": "ipython3",
   "version": "3.8.5"
  }
 },
 "nbformat": 4,
 "nbformat_minor": 4
}
